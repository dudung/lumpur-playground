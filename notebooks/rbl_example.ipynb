{
 "cells": [
  {
   "cell_type": "markdown",
   "id": "fbdf0f4d-a9ab-462f-a989-a34449b31fe0",
   "metadata": {},
   "source": [
    "# Learning Polynomial using Jupyter Notebook"
   ]
  },
  {
   "cell_type": "markdown",
   "id": "1c8ec36d-24f3-4685-8a89-b1708b068aed",
   "metadata": {},
   "source": [
    "## authors\n",
    "\n",
    "No | Name | ID | GitHub profile page | Main contribution | Link | Max point \n",
    ":-: | :- | :-: | :- | :- | :- | :-:\n",
    "1 | Deepali Karwa | 10223007 | https://github.com/deepalikarwa | Discussion on GitHub issues | https://github.com/deepalikarwa/First-Contirbution/issues | 20\n",
    "2 | Zhirui Feng | 10223087 | https://gist.github.com/ZhiruiFeng | Notebook finalization |  https://gist.github.com/ZhiruiFeng/ff776df1a71ac211c3e0221d099bbae9 | 20\n",
    "3 | Tim Errington | 10223009 | https://github.com/timerrington | Slide on OSF | https://osf.io/wdpja | 20 \n",
    "4 | David Ondrej  | 10223101 | https://github.com/davidondrej | YouTube presenation video | https://www.youtube.com/watch?v=NLq2qvr867Q | 20"
   ]
  },
  {
   "cell_type": "code",
   "execution_count": null,
   "id": "95a23a84-875a-4642-8370-2a9c79683f81",
   "metadata": {},
   "outputs": [],
   "source": []
  }
 ],
 "metadata": {
  "kernelspec": {
   "display_name": "Python 3 (ipykernel)",
   "language": "python",
   "name": "python3"
  },
  "language_info": {
   "codemirror_mode": {
    "name": "ipython",
    "version": 3
   },
   "file_extension": ".py",
   "mimetype": "text/x-python",
   "name": "python",
   "nbconvert_exporter": "python",
   "pygments_lexer": "ipython3",
   "version": "3.12.3"
  }
 },
 "nbformat": 4,
 "nbformat_minor": 5
}
