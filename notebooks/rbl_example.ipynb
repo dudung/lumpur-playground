{
 "cells": [
  {
   "cell_type": "markdown",
   "id": "fbdf0f4d-a9ab-462f-a989-a34449b31fe0",
   "metadata": {},
   "source": [
    "# Learning Polynomial using Jupyter Notebook\n",
    "*Write title of your work. Above title is only for example. Change it with yours. (Point: 5)*"
   ]
  },
  {
   "cell_type": "markdown",
   "id": "1c8ec36d-24f3-4685-8a89-b1708b068aed",
   "metadata": {},
   "source": [
    "## authors\n",
    "*Edit Name, ID, GitHub username, main contribution, and Info with link. (Point: 5)*\n",
    "\n",
    "No | Name | ID | GitHub username | Main contribution | Info with link | Max point \n",
    ":-: | :- | :-: | :- | :- | :- | :-:\n",
    "1 | Deepali Karwa | 10223007 | https://github.com/deepalikarwa | Discussion on GitHub issues | https://github.com/deepalikarwa/First-Contirbution/issues | 20\n",
    "2 | Zhirui Feng | 10223087 | https://gist.github.com/ZhiruiFeng | Notebook finalization |  https://gist.github.com/ZhiruiFeng/ff776df1a71ac211c3e0221d099bbae9 | 20\n",
    "3 | Tim Errington | 10223009 | https://github.com/timerrington | Slide on OSF | https://osf.io/wdpja | 20 \n",
    "4 | David Ondrej  | 10223101 | https://github.com/davidondrej | YouTube presenation video | https://www.youtube.com/watch?v=NLq2qvr867Q | 20"
   ]
  },
  {
   "cell_type": "markdown",
   "id": "fd37f767-fd5d-48c0-baf9-7f7ba084932d",
   "metadata": {},
   "source": [
    "## abstract\n",
    "*Write information about your work, method, results, and conclusion in brief, not more that 100 words. (Point: 5)*"
   ]
  },
  {
   "cell_type": "markdown",
   "id": "cd42485c-ffbe-4400-b2a8-9e0fe0a7d5c6",
   "metadata": {},
   "source": [
    "## background\n",
    "*Write purpose of your work, problem to solve, current state of similar work, and include at least four references. (Point: 5)*"
   ]
  },
  {
   "cell_type": "markdown",
   "id": "5ab40a4c-c42d-4472-886c-02910aeef822",
   "metadata": {},
   "source": [
    "## method\n",
    "*Write flowchart, algorithm, code, libraries, dependencies, platform, software, and any infomration that help others to reproduce your work. Include equations and figures if necessary. (Point: 10)*"
   ]
  },
  {
   "cell_type": "markdown",
   "id": "66972a47-a204-42ca-be1a-8cd824b52fd9",
   "metadata": {},
   "source": [
    "## results and dicussion\n",
    "*Write results of your work and discuss whether the purpose of the work has already achived or not. You can add also unsolved problem relate to the work. Include charts ond other visual elements here. You can also use tables. (Point: 10)*"
   ]
  },
  {
   "cell_type": "markdown",
   "id": "0c9eb67a-9c61-409a-8d3b-39964b2244b0",
   "metadata": {},
   "source": [
    "## conclusion\n",
    "*Write conclusion of the work, which differs your work with others. Include also idea for future work. (Point: 5)*"
   ]
  },
  {
   "cell_type": "markdown",
   "id": "c8b857f6-92f6-47ea-ae89-35ea67056461",
   "metadata": {},
   "source": [
    "## references\n",
    "*Include at least four references from journals, books, manuals, blogs, websites, or other resources. Use standard format for references. (Point: 5)*"
   ]
  }
 ],
 "metadata": {
  "kernelspec": {
   "display_name": "Python 3 (ipykernel)",
   "language": "python",
   "name": "python3"
  },
  "language_info": {
   "codemirror_mode": {
    "name": "ipython",
    "version": 3
   },
   "file_extension": ".py",
   "mimetype": "text/x-python",
   "name": "python",
   "nbconvert_exporter": "python",
   "pygments_lexer": "ipython3",
   "version": "3.12.3"
  }
 },
 "nbformat": 4,
 "nbformat_minor": 5
}
